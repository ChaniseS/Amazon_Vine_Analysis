{
  "nbformat": 4,
  "nbformat_minor": 0,
  "metadata": {
    "colab": {
      "name": "Vine_Review_Analysis",
      "provenance": [],
      "collapsed_sections": []
    },
    "kernelspec": {
      "name": "python3",
      "display_name": "Python 3"
    },
    "language_info": {
      "name": "python"
    }
  },
  "cells": [
    {
      "cell_type": "code",
      "execution_count": 1,
      "metadata": {
        "colab": {
          "base_uri": "https://localhost:8080/"
        },
        "id": "QCIMpAFxIjxz",
        "outputId": "dd41a0e2-f039-4215-a389-a813bda901e8"
      },
      "outputs": [
        {
          "output_type": "stream",
          "name": "stdout",
          "text": [
            "\r0% [Working]\r            \rHit:1 http://archive.ubuntu.com/ubuntu bionic InRelease\n",
            "\r0% [Connecting to security.ubuntu.com (185.125.190.39)] [Connected to cloud.r-p\r                                                                               \rGet:2 http://archive.ubuntu.com/ubuntu bionic-updates InRelease [88.7 kB]\n",
            "\r                                                                               \rGet:3 https://cloud.r-project.org/bin/linux/ubuntu bionic-cran40/ InRelease [3,626 B]\n",
            "\r0% [2 InRelease 15.6 kB/88.7 kB 18%] [Waiting for headers] [Waiting for headers\r0% [1 InRelease gpgv 242 kB] [2 InRelease 15.6 kB/88.7 kB 18%] [Waiting for hea\r                                                                               \rIgn:4 https://developer.download.nvidia.com/compute/cuda/repos/ubuntu1804/x86_64  InRelease\n",
            "\r0% [1 InRelease gpgv 242 kB] [2 InRelease 44.6 kB/88.7 kB 50%] [Waiting for hea\r                                                                               \rGet:5 http://ppa.launchpad.net/c2d4u.team/c2d4u4.0+/ubuntu bionic InRelease [15.9 kB]\n",
            "Get:6 http://security.ubuntu.com/ubuntu bionic-security InRelease [88.7 kB]\n",
            "Ign:7 https://developer.download.nvidia.com/compute/machine-learning/repos/ubuntu1804/x86_64  InRelease\n",
            "Get:8 http://archive.ubuntu.com/ubuntu bionic-backports InRelease [74.6 kB]\n",
            "Get:9 https://developer.download.nvidia.com/compute/cuda/repos/ubuntu1804/x86_64  Release [696 B]\n",
            "Hit:10 https://developer.download.nvidia.com/compute/machine-learning/repos/ubuntu1804/x86_64  Release\n",
            "Get:11 https://developer.download.nvidia.com/compute/cuda/repos/ubuntu1804/x86_64  Release.gpg [836 B]\n",
            "Hit:12 http://ppa.launchpad.net/cran/libgit2/ubuntu bionic InRelease\n",
            "Get:13 http://ppa.launchpad.net/deadsnakes/ppa/ubuntu bionic InRelease [15.9 kB]\n",
            "Get:14 http://ppa.launchpad.net/graphics-drivers/ppa/ubuntu bionic InRelease [21.3 kB]\n",
            "Get:15 https://cloud.r-project.org/bin/linux/ubuntu bionic-cran40/ Packages [82.3 kB]\n",
            "Get:16 http://archive.ubuntu.com/ubuntu bionic-updates/universe amd64 Packages [2,268 kB]\n",
            "Get:17 http://archive.ubuntu.com/ubuntu bionic-updates/multiverse amd64 Packages [29.8 kB]\n",
            "Get:18 http://archive.ubuntu.com/ubuntu bionic-updates/main amd64 Packages [3,133 kB]\n",
            "Get:19 http://archive.ubuntu.com/ubuntu bionic-updates/restricted amd64 Packages [918 kB]\n",
            "Get:20 http://archive.ubuntu.com/ubuntu bionic-backports/main amd64 Packages [12.2 kB]\n",
            "Get:21 http://archive.ubuntu.com/ubuntu bionic-backports/universe amd64 Packages [12.9 kB]\n",
            "Get:23 https://developer.download.nvidia.com/compute/cuda/repos/ubuntu1804/x86_64  Packages [952 kB]\n",
            "Get:24 http://ppa.launchpad.net/c2d4u.team/c2d4u4.0+/ubuntu bionic/main Sources [1,831 kB]\n",
            "Get:25 http://security.ubuntu.com/ubuntu bionic-security/main amd64 Packages [2,694 kB]\n",
            "Get:26 http://ppa.launchpad.net/c2d4u.team/c2d4u4.0+/ubuntu bionic/main amd64 Packages [938 kB]\n",
            "Get:27 http://security.ubuntu.com/ubuntu bionic-security/universe amd64 Packages [1,490 kB]\n",
            "Get:28 http://security.ubuntu.com/ubuntu bionic-security/restricted amd64 Packages [884 kB]\n",
            "Get:29 http://ppa.launchpad.net/deadsnakes/ppa/ubuntu bionic/main amd64 Packages [45.3 kB]\n",
            "Get:30 http://ppa.launchpad.net/graphics-drivers/ppa/ubuntu bionic/main amd64 Packages [44.3 kB]\n",
            "Fetched 15.6 MB in 7s (2,258 kB/s)\n",
            "Reading package lists... Done\n"
          ]
        }
      ],
      "source": [
        "import os\n",
        "# Find the latest version of spark 3.0 from http://www.apache.org/dist/spark/ and enter as the spark version\n",
        "# For example:\n",
        "# spark_version = 'spark-3.0.3'\n",
        "spark_version = 'spark-3.0.3'\n",
        "os.environ['SPARK_VERSION']=spark_version\n",
        "\n",
        "# Install Spark and Java\n",
        "!apt-get update\n",
        "!apt-get install openjdk-11-jdk-headless -qq > /dev/null\n",
        "!wget -q http://www.apache.org/dist/spark/$SPARK_VERSION/$SPARK_VERSION-bin-hadoop2.7.tgz\n",
        "!tar xf $SPARK_VERSION-bin-hadoop2.7.tgz\n",
        "!pip install -q findspark\n",
        "\n",
        "# Set Environment Variables\n",
        "import os\n",
        "os.environ[\"JAVA_HOME\"] = \"/usr/lib/jvm/java-11-openjdk-amd64\"\n",
        "os.environ[\"SPARK_HOME\"] = f\"/content/{spark_version}-bin-hadoop2.7\"\n",
        "\n",
        "# Start a SparkSession\n",
        "import findspark\n",
        "findspark.init()"
      ]
    },
    {
      "cell_type": "code",
      "source": [
        "from pyspark.sql import SparkSession\n",
        "spark = SparkSession.builder.appName(\"M16-Amazon-Challenge\").config(\"spark.driver.extraClassPath\",\"/content/postgresql-42.2.16.jar\").getOrCreate()"
      ],
      "metadata": {
        "id": "-meA_xyxI_0x"
      },
      "execution_count": 2,
      "outputs": []
    },
    {
      "cell_type": "code",
      "source": [
        "from pyspark import SparkFiles\n",
        "url = \"https://s3.amazonaws.com/amazon-reviews-pds/tsv/amazon_reviews_us_Personal_Care_Appliances_v1_00.tsv.gz\"\n",
        "spark.sparkContext.addFile(url)\n",
        "df = spark.read.option(\"encoding\", \"UTF-8\").csv(SparkFiles.get(\"\"), sep=\"\\t\", header=True, inferSchema=True)\n",
        "df.show()"
      ],
      "metadata": {
        "colab": {
          "base_uri": "https://localhost:8080/"
        },
        "id": "gjkWRW7pI_7F",
        "outputId": "09541bef-a398-40db-f0d2-2293dfff39bf"
      },
      "execution_count": 3,
      "outputs": [
        {
          "output_type": "stream",
          "name": "stdout",
          "text": [
            "+-----------+-----------+--------------+----------+--------------+--------------------+--------------------+-----------+-------------+-----------+----+-----------------+--------------------+--------------------+-----------+\n",
            "|marketplace|customer_id|     review_id|product_id|product_parent|       product_title|    product_category|star_rating|helpful_votes|total_votes|vine|verified_purchase|     review_headline|         review_body|review_date|\n",
            "+-----------+-----------+--------------+----------+--------------+--------------------+--------------------+-----------+-------------+-----------+----+-----------------+--------------------+--------------------+-----------+\n",
            "|         US|   32114233|R1QX6706ZWJ1P5|B00OYRW4UE|     223980852|Elite Sportz Exer...|Personal_Care_App...|          5|            0|          0|   N|                Y|Good quality. Shi...|Exactly as descri...| 2015-08-31|\n",
            "|         US|   18125776|R3QWMLJHIW6P37|B0000537JQ|     819771537|     Ezy Dose Weekly|Personal_Care_App...|          5|            0|          0|   N|                Y|          Five Stars|         It is great| 2015-08-31|\n",
            "|         US|   19917519|R14Z1VR1N0Z9G6|B00HXXO332|     849307176|Pulse Oximeter, B...|Personal_Care_App...|          5|            1|          1|   N|                Y|It's really nice ...|It's really nice ...| 2015-08-31|\n",
            "|         US|   18277171| R25ZRJL0GH0U0|B00EOB0JA2|     700864740|SE Tools Tool Kit...|Personal_Care_App...|          2|            0|          0|   N|                Y|           Two Stars|The kit works fin...| 2015-08-31|\n",
            "|         US|    2593270|R3837KYH7AZNIY|B00OC2O1UC|     794298839|doTERRA HD Clear ...|Personal_Care_App...|          4|            0|          1|   N|                Y|          Four Stars|It works better t...| 2015-08-31|\n",
            "|         US|    2592955|R2MN0QYCY6EVIV|B00HES9CMS|     318730927|Viva Naturals #1 ...|Personal_Care_App...|          5|            0|          0|   N|                Y|      not bad at all|I added to my oat...| 2015-08-31|\n",
            "|         US|   15168265|R3AN2UJ1D42ZS0|B0016BFR4G|     887476137|Uncle Lee's Organ...|Personal_Care_App...|          5|            0|          0|   N|                Y|Mild, enjoyable t...|Husband drinks th...| 2015-08-31|\n",
            "|         US|   13761624|R3U29ZLUWEEK4M|B00K504UUG|     458706868|Syrtenty Electrod...|Personal_Care_App...|          5|            0|          0|   N|                Y|          Five Stars|       Good quality.| 2015-08-31|\n",
            "|         US|   37070734|R16ZDMJJHK796C|B00HES9CMS|     318730927|Viva Naturals #1 ...|Personal_Care_App...|          5|            0|          0|   N|                N|        High Quality|This is high qual...| 2015-08-31|\n",
            "|         US|   29615023| RRRDOEJZD1Y22|B00P6TUO5G|     170248843|Viva Naturals Org...|Personal_Care_App...|          4|            0|          0|   N|                Y|          we like it|Buying more produ...| 2015-08-31|\n",
            "|         US|   47893062|R2KR5ZEAS859DK|B0006VJ6TO|     412568457|Body Back Company...|Personal_Care_App...|          5|            0|          0|   N|                Y|          Five Stars|    Their best cane.| 2015-08-31|\n",
            "|         US|    2582596| RR7PGQY763IHF|B00H9L7VIW|     851045898|boostULTIMATE - 6...|Personal_Care_App...|          5|            0|          0|   N|                Y|       Great product|Great product! Ma...| 2015-08-31|\n",
            "|         US|   21969415| RN37YYZBP9BMP|B00P1JNZUW|     274294586|doTERRA Veráge Sk...|Personal_Care_App...|          5|            4|          4|   N|                Y|Love the prouduct...|Love the prouduct...| 2015-08-31|\n",
            "|         US|   43153609| R1UXGB70OR5TW|B00N5HD340|     955577225|      Straight Razor|Personal_Care_App...|          5|            0|          0|   N|                Y|          Five Stars|          great buy.| 2015-08-31|\n",
            "|         US|   17782951|R1OC5ZNXSGO7P1|B0007DHMVK|      78719480|BONGER Massage To...|Personal_Care_App...|          5|            0|          0|   N|                Y|          Five stars|These are so much...| 2015-08-31|\n",
            "|         US|   13710264|R1W4ZN8BPVNWK3|B0002JG2NI|     900996767|Home Health Casto...|Personal_Care_App...|          5|            0|          0|   N|                Y|It works for home...|It works for home...| 2015-08-31|\n",
            "|         US|   30720884|R2KE33CNN5X2B0|B00OYRW4UE|     223980852|Elite Sportz Exer...|Personal_Care_App...|          5|            0|          0|   N|                Y|These work great ...|These work great ...| 2015-08-31|\n",
            "|         US|   35206254|R1A26EDSO0U5N6|B00598WT0C|     218203731|Aloha Eyewear “St...|Personal_Care_App...|          5|            0|          0|   N|                Y|             awesome|for anyone needin...| 2015-08-31|\n",
            "|         US|   10261156|R3L81GOHVS3E9P|B0006VJ6TO|     412568457|Body Back Company...|Personal_Care_App...|          5|            0|          0|   N|                Y| Deep tissue massage|This works perfec...| 2015-08-31|\n",
            "|         US|   50708344| RNFW9SWC5D0YF|B00J7G96NK|     256041044|Oral B Glide Flos...|Personal_Care_App...|          5|            2|          2|   N|                N|These are an esse...|Not only are thes...| 2015-08-31|\n",
            "+-----------+-----------+--------------+----------+--------------+--------------------+--------------------+-----------+-------------+-----------+----+-----------------+--------------------+--------------------+-----------+\n",
            "only showing top 20 rows\n",
            "\n"
          ]
        }
      ]
    },
    {
      "cell_type": "code",
      "source": [
        "# Create the vine_table. DataFrame\n",
        "vine_df = df.select([\"review_id\", \"star_rating\", \"helpful_votes\", \"total_votes\", \"vine\", \"verified_purchase\"])\n",
        "vine_df.show(20)"
      ],
      "metadata": {
        "colab": {
          "base_uri": "https://localhost:8080/"
        },
        "id": "eRKIK08UXjGy",
        "outputId": "9ee4aa4a-e97e-470c-cea1-c63c401d7c53"
      },
      "execution_count": 54,
      "outputs": [
        {
          "output_type": "stream",
          "name": "stdout",
          "text": [
            "+--------------+-----------+-------------+-----------+----+-----------------+\n",
            "|     review_id|star_rating|helpful_votes|total_votes|vine|verified_purchase|\n",
            "+--------------+-----------+-------------+-----------+----+-----------------+\n",
            "|R1QX6706ZWJ1P5|          5|            0|          0|   N|                Y|\n",
            "|R3QWMLJHIW6P37|          5|            0|          0|   N|                Y|\n",
            "|R14Z1VR1N0Z9G6|          5|            1|          1|   N|                Y|\n",
            "| R25ZRJL0GH0U0|          2|            0|          0|   N|                Y|\n",
            "|R3837KYH7AZNIY|          4|            0|          1|   N|                Y|\n",
            "|R2MN0QYCY6EVIV|          5|            0|          0|   N|                Y|\n",
            "|R3AN2UJ1D42ZS0|          5|            0|          0|   N|                Y|\n",
            "|R3U29ZLUWEEK4M|          5|            0|          0|   N|                Y|\n",
            "|R16ZDMJJHK796C|          5|            0|          0|   N|                N|\n",
            "| RRRDOEJZD1Y22|          4|            0|          0|   N|                Y|\n",
            "|R2KR5ZEAS859DK|          5|            0|          0|   N|                Y|\n",
            "| RR7PGQY763IHF|          5|            0|          0|   N|                Y|\n",
            "| RN37YYZBP9BMP|          5|            4|          4|   N|                Y|\n",
            "| R1UXGB70OR5TW|          5|            0|          0|   N|                Y|\n",
            "|R1OC5ZNXSGO7P1|          5|            0|          0|   N|                Y|\n",
            "|R1W4ZN8BPVNWK3|          5|            0|          0|   N|                Y|\n",
            "|R2KE33CNN5X2B0|          5|            0|          0|   N|                Y|\n",
            "|R1A26EDSO0U5N6|          5|            0|          0|   N|                Y|\n",
            "|R3L81GOHVS3E9P|          5|            0|          0|   N|                Y|\n",
            "| RNFW9SWC5D0YF|          5|            2|          2|   N|                N|\n",
            "+--------------+-----------+-------------+-----------+----+-----------------+\n",
            "only showing top 20 rows\n",
            "\n"
          ]
        }
      ]
    },
    {
      "cell_type": "code",
      "source": [
        "## DELIVERALE 2"
      ],
      "metadata": {
        "id": "fJotgdT_JADk"
      },
      "execution_count": 10,
      "outputs": []
    },
    {
      "cell_type": "code",
      "source": [
        "# Step 1: Filter the data and create a new DataFrame or table to retrieve all the rows where the total_votes count is equal to or greater than 20\n",
        "filtered_vine_df = vine_df.filter(\"total_votes >= 20\")\n",
        "filtered_vine_df.show()\n"
      ],
      "metadata": {
        "colab": {
          "base_uri": "https://localhost:8080/"
        },
        "id": "f-aqSN3AJAGr",
        "outputId": "ebc4c5a2-c52b-45ca-af39-29dd5e478da1"
      },
      "execution_count": 55,
      "outputs": [
        {
          "output_type": "stream",
          "name": "stdout",
          "text": [
            "+--------------+-----------+-------------+-----------+----+-----------------+\n",
            "|     review_id|star_rating|helpful_votes|total_votes|vine|verified_purchase|\n",
            "+--------------+-----------+-------------+-----------+----+-----------------+\n",
            "|R2PT2X8FMYFCV3|          5|           39|         41|   N|                Y|\n",
            "| RGCUQSH80SYY7|          1|           36|         47|   N|                N|\n",
            "|R3E6EI073KP0AL|          2|           21|         36|   N|                Y|\n",
            "|R3MYTXW7B4Z6YW|          4|          687|        711|   N|                Y|\n",
            "|R2WMF1IWN5ZYO4|          5|           18|         24|   N|                Y|\n",
            "| ROX6L7VJFS2P7|          5|          339|        371|   N|                N|\n",
            "| RRKAST7D4QTW8|          1|           20|         27|   N|                N|\n",
            "|R2QBKTWBDPL8BF|          5|           65|         83|   N|                N|\n",
            "|R3ULT9I0U79N8L|          5|           49|         57|   N|                N|\n",
            "|R20LABVEB8O83Q|          3|           11|         23|   N|                Y|\n",
            "| RAC19YVDYSIKB|          5|          161|        178|   N|                Y|\n",
            "|R2Y371XG6AXDOJ|          1|           16|         30|   N|                Y|\n",
            "|R2AYFA0X50V4BN|          5|           19|         20|   N|                Y|\n",
            "|R1327SZTWDHLID|          1|           12|         24|   N|                Y|\n",
            "|R28VFN6VN0VBTB|          1|            7|         20|   N|                N|\n",
            "|R1I52HQDJFY2G0|          4|           18|         20|   N|                Y|\n",
            "|R1FANBM03J1IHE|          5|           24|         31|   N|                N|\n",
            "|R2X15QGPQ9ESRU|          1|           12|         23|   N|                Y|\n",
            "|R1F7CUCJIBPS7L|          3|           20|         21|   N|                Y|\n",
            "|R3JV04CHH10FFR|          5|           32|         32|   N|                Y|\n",
            "+--------------+-----------+-------------+-----------+----+-----------------+\n",
            "only showing top 20 rows\n",
            "\n"
          ]
        }
      ]
    },
    {
      "cell_type": "code",
      "source": [
        "# Step 2: Create a new DataFrame or table to retrieve all the rows where the number of helpful_votes divided by total_votes is equal to or greater than 50%.\n",
        "helpful_votes_df = filtered_vine_df.filter((filtered_vine_df[\"helpful_votes\"] / filtered_vine_df[\"total_votes\"]) >= .5)\n",
        "helpful_votes_df.show()"
      ],
      "metadata": {
        "colab": {
          "base_uri": "https://localhost:8080/"
        },
        "id": "s1maDrkANSO-",
        "outputId": "7733daf5-ef6c-46db-d193-f176654d7449"
      },
      "execution_count": 56,
      "outputs": [
        {
          "output_type": "stream",
          "name": "stdout",
          "text": [
            "+--------------+-----------+-------------+-----------+----+-----------------+\n",
            "|     review_id|star_rating|helpful_votes|total_votes|vine|verified_purchase|\n",
            "+--------------+-----------+-------------+-----------+----+-----------------+\n",
            "|R2PT2X8FMYFCV3|          5|           39|         41|   N|                Y|\n",
            "| RGCUQSH80SYY7|          1|           36|         47|   N|                N|\n",
            "|R3E6EI073KP0AL|          2|           21|         36|   N|                Y|\n",
            "|R3MYTXW7B4Z6YW|          4|          687|        711|   N|                Y|\n",
            "|R2WMF1IWN5ZYO4|          5|           18|         24|   N|                Y|\n",
            "| ROX6L7VJFS2P7|          5|          339|        371|   N|                N|\n",
            "| RRKAST7D4QTW8|          1|           20|         27|   N|                N|\n",
            "|R2QBKTWBDPL8BF|          5|           65|         83|   N|                N|\n",
            "|R3ULT9I0U79N8L|          5|           49|         57|   N|                N|\n",
            "| RAC19YVDYSIKB|          5|          161|        178|   N|                Y|\n",
            "|R2Y371XG6AXDOJ|          1|           16|         30|   N|                Y|\n",
            "|R2AYFA0X50V4BN|          5|           19|         20|   N|                Y|\n",
            "|R1327SZTWDHLID|          1|           12|         24|   N|                Y|\n",
            "|R1I52HQDJFY2G0|          4|           18|         20|   N|                Y|\n",
            "|R1FANBM03J1IHE|          5|           24|         31|   N|                N|\n",
            "|R2X15QGPQ9ESRU|          1|           12|         23|   N|                Y|\n",
            "|R1F7CUCJIBPS7L|          3|           20|         21|   N|                Y|\n",
            "|R3JV04CHH10FFR|          5|           32|         32|   N|                Y|\n",
            "| R9F7EN48ULXMD|          1|           11|         20|   N|                Y|\n",
            "|R1K0BP4TF3U8EH|          5|           23|         37|   N|                Y|\n",
            "+--------------+-----------+-------------+-----------+----+-----------------+\n",
            "only showing top 20 rows\n",
            "\n"
          ]
        }
      ]
    },
    {
      "cell_type": "code",
      "source": [
        "# Step 3: Create a new DataFrame or table that retrieves all the rows where a review was written as part of the Vine program (paid), vine == 'Y'\n",
        "vine_reviews_df = helpful_votes_df.filter(helpful_votes_df[\"vine\"] == 'Y')\n",
        "vine_reviews_df.show()"
      ],
      "metadata": {
        "colab": {
          "base_uri": "https://localhost:8080/"
        },
        "id": "Mr_Y4h1GNex-",
        "outputId": "3bf9ba2d-ab62-4be7-8aea-304a4a02756d"
      },
      "execution_count": 57,
      "outputs": [
        {
          "output_type": "stream",
          "name": "stdout",
          "text": [
            "+--------------+-----------+-------------+-----------+----+-----------------+\n",
            "|     review_id|star_rating|helpful_votes|total_votes|vine|verified_purchase|\n",
            "+--------------+-----------+-------------+-----------+----+-----------------+\n",
            "|R3R2RHQWEKX5NL|          5|           81|         89|   Y|                N|\n",
            "|R1RZ4JZO8DAP7H|          3|          200|        227|   Y|                N|\n",
            "| RQ94HI0WM8KIG|          5|          174|        188|   Y|                N|\n",
            "+--------------+-----------+-------------+-----------+----+-----------------+\n",
            "\n"
          ]
        }
      ]
    },
    {
      "cell_type": "code",
      "source": [
        "# Step 4: Create a new DataFrame or table that retrieves all the rows where a review was written as part of the Vine program (non-paid), vine == 'Y'\n",
        "not_vine_reviews_df = helpful_votes_df.filter(helpful_votes_df[\"vine\"] == 'N')\n",
        "not_vine_reviews_df.show()"
      ],
      "metadata": {
        "colab": {
          "base_uri": "https://localhost:8080/"
        },
        "id": "kBh-9BzwOOj6",
        "outputId": "58c449ed-c66b-4736-d915-1199d227ce0f"
      },
      "execution_count": 58,
      "outputs": [
        {
          "output_type": "stream",
          "name": "stdout",
          "text": [
            "+--------------+-----------+-------------+-----------+----+-----------------+\n",
            "|     review_id|star_rating|helpful_votes|total_votes|vine|verified_purchase|\n",
            "+--------------+-----------+-------------+-----------+----+-----------------+\n",
            "|R2PT2X8FMYFCV3|          5|           39|         41|   N|                Y|\n",
            "| RGCUQSH80SYY7|          1|           36|         47|   N|                N|\n",
            "|R3E6EI073KP0AL|          2|           21|         36|   N|                Y|\n",
            "|R3MYTXW7B4Z6YW|          4|          687|        711|   N|                Y|\n",
            "|R2WMF1IWN5ZYO4|          5|           18|         24|   N|                Y|\n",
            "| ROX6L7VJFS2P7|          5|          339|        371|   N|                N|\n",
            "| RRKAST7D4QTW8|          1|           20|         27|   N|                N|\n",
            "|R2QBKTWBDPL8BF|          5|           65|         83|   N|                N|\n",
            "|R3ULT9I0U79N8L|          5|           49|         57|   N|                N|\n",
            "| RAC19YVDYSIKB|          5|          161|        178|   N|                Y|\n",
            "|R2Y371XG6AXDOJ|          1|           16|         30|   N|                Y|\n",
            "|R2AYFA0X50V4BN|          5|           19|         20|   N|                Y|\n",
            "|R1327SZTWDHLID|          1|           12|         24|   N|                Y|\n",
            "|R1I52HQDJFY2G0|          4|           18|         20|   N|                Y|\n",
            "|R1FANBM03J1IHE|          5|           24|         31|   N|                N|\n",
            "|R2X15QGPQ9ESRU|          1|           12|         23|   N|                Y|\n",
            "|R1F7CUCJIBPS7L|          3|           20|         21|   N|                Y|\n",
            "|R3JV04CHH10FFR|          5|           32|         32|   N|                Y|\n",
            "| R9F7EN48ULXMD|          1|           11|         20|   N|                Y|\n",
            "|R1K0BP4TF3U8EH|          5|           23|         37|   N|                Y|\n",
            "+--------------+-----------+-------------+-----------+----+-----------------+\n",
            "only showing top 20 rows\n",
            "\n"
          ]
        }
      ]
    },
    {
      "cell_type": "code",
      "source": [
        "# Step 5: Determine the total number of reviews, the number of 5-star reviews, and the percentage of 5-star reviews for the two types of review (paid vs unpaid).\n",
        "# Determine total number of reviews (PAID)\n",
        "paid_reviews = vine_reviews_df.count()\n",
        "paid_reviews"
      ],
      "metadata": {
        "colab": {
          "base_uri": "https://localhost:8080/"
        },
        "id": "xLuLdX55OncD",
        "outputId": "92969e11-deb6-4318-98bb-2cce050b5782"
      },
      "execution_count": 59,
      "outputs": [
        {
          "output_type": "execute_result",
          "data": {
            "text/plain": [
              "3"
            ]
          },
          "metadata": {},
          "execution_count": 59
        }
      ]
    },
    {
      "cell_type": "code",
      "source": [
        "# Determine number of 5-star reviews (PAID)\n",
        "paid_five_star_reviews = vine_reviews_df.filter(vine_reviews_df[\"star_rating\"] == '5').count()\n",
        "paid_five_star_reviews"
      ],
      "metadata": {
        "colab": {
          "base_uri": "https://localhost:8080/"
        },
        "id": "YloMVefdV9SL",
        "outputId": "a6ba0c9c-6f30-4243-b9e9-e38063acaf4c"
      },
      "execution_count": 60,
      "outputs": [
        {
          "output_type": "execute_result",
          "data": {
            "text/plain": [
              "2"
            ]
          },
          "metadata": {},
          "execution_count": 60
        }
      ]
    },
    {
      "cell_type": "code",
      "source": [
        "# Determine percentage of 5 start reviews (PAID)\n",
        "paid_reviews_percentage = paid_five_star_reviews / paid_reviews\n",
        "paid_reviews_percentage"
      ],
      "metadata": {
        "colab": {
          "base_uri": "https://localhost:8080/"
        },
        "id": "Pu4N9Du3Y2bv",
        "outputId": "0297aac3-3ae6-4960-e6ae-c27bab0cf208"
      },
      "execution_count": 61,
      "outputs": [
        {
          "output_type": "execute_result",
          "data": {
            "text/plain": [
              "0.6666666666666666"
            ]
          },
          "metadata": {},
          "execution_count": 61
        }
      ]
    },
    {
      "cell_type": "code",
      "source": [
        "# Determine total number of reviews (UNPAID)\n",
        "unpaid_reviews = not_vine_reviews_df.count()\n",
        "unpaid_reviews"
      ],
      "metadata": {
        "colab": {
          "base_uri": "https://localhost:8080/"
        },
        "id": "4v7KlEApY2me",
        "outputId": "d4cb05c4-0598-4e7e-d09c-8c805363babe"
      },
      "execution_count": 62,
      "outputs": [
        {
          "output_type": "execute_result",
          "data": {
            "text/plain": [
              "3094"
            ]
          },
          "metadata": {},
          "execution_count": 62
        }
      ]
    },
    {
      "cell_type": "code",
      "source": [
        "# Determine number of 5-star reviews (UNPAID)\n",
        "unpaid_five_star_reviews = not_vine_reviews_df.filter(not_vine_reviews_df[\"star_rating\"] == '5').count()\n",
        "unpaid_five_star_reviews"
      ],
      "metadata": {
        "colab": {
          "base_uri": "https://localhost:8080/"
        },
        "id": "kEwsfOO0Y700",
        "outputId": "5906c07a-438c-4e40-94ba-77d99134d808"
      },
      "execution_count": 63,
      "outputs": [
        {
          "output_type": "execute_result",
          "data": {
            "text/plain": [
              "1704"
            ]
          },
          "metadata": {},
          "execution_count": 63
        }
      ]
    },
    {
      "cell_type": "code",
      "source": [
        "# Determine percentage of 5 start reviews (UNPAID)\n",
        "unpaid_reviews_percentage = unpaid_five_star_reviews / unpaid_reviews\n",
        "unpaid_reviews_percentage"
      ],
      "metadata": {
        "colab": {
          "base_uri": "https://localhost:8080/"
        },
        "id": "7f9dSCndY75v",
        "outputId": "64d3db7a-6476-4a4d-a1b1-84bcde223c44"
      },
      "execution_count": 64,
      "outputs": [
        {
          "output_type": "execute_result",
          "data": {
            "text/plain": [
              "0.5507433742727861"
            ]
          },
          "metadata": {},
          "execution_count": 64
        }
      ]
    },
    {
      "cell_type": "code",
      "source": [
        "# Retrieves all rows where a review was not written as part of the Vine program and purchase was verified\n",
        "not_vine_reviews_purchased = helpful_votes_df.filter((helpful_votes_df[\"vine\"] == 'N') & (helpful_votes_df[\"verified_purchase\"] == 'Y'))\n",
        "not_vine_reviews_purchased.show()"
      ],
      "metadata": {
        "colab": {
          "base_uri": "https://localhost:8080/"
        },
        "id": "Elx3W7ElZBBj",
        "outputId": "907769b5-0537-437e-dda3-9301b8de1af7"
      },
      "execution_count": 65,
      "outputs": [
        {
          "output_type": "stream",
          "name": "stdout",
          "text": [
            "+--------------+-----------+-------------+-----------+----+-----------------+\n",
            "|     review_id|star_rating|helpful_votes|total_votes|vine|verified_purchase|\n",
            "+--------------+-----------+-------------+-----------+----+-----------------+\n",
            "|R2PT2X8FMYFCV3|          5|           39|         41|   N|                Y|\n",
            "|R3E6EI073KP0AL|          2|           21|         36|   N|                Y|\n",
            "|R3MYTXW7B4Z6YW|          4|          687|        711|   N|                Y|\n",
            "|R2WMF1IWN5ZYO4|          5|           18|         24|   N|                Y|\n",
            "| RAC19YVDYSIKB|          5|          161|        178|   N|                Y|\n",
            "|R2Y371XG6AXDOJ|          1|           16|         30|   N|                Y|\n",
            "|R2AYFA0X50V4BN|          5|           19|         20|   N|                Y|\n",
            "|R1327SZTWDHLID|          1|           12|         24|   N|                Y|\n",
            "|R1I52HQDJFY2G0|          4|           18|         20|   N|                Y|\n",
            "|R2X15QGPQ9ESRU|          1|           12|         23|   N|                Y|\n",
            "|R1F7CUCJIBPS7L|          3|           20|         21|   N|                Y|\n",
            "|R3JV04CHH10FFR|          5|           32|         32|   N|                Y|\n",
            "| R9F7EN48ULXMD|          1|           11|         20|   N|                Y|\n",
            "|R1K0BP4TF3U8EH|          5|           23|         37|   N|                Y|\n",
            "|R1PVRE7ZDRJ9GF|          5|           23|         23|   N|                Y|\n",
            "| RMTXV7D4130E4|          1|           37|         73|   N|                Y|\n",
            "|R1P3QAUSWGHR27|          5|           26|         35|   N|                Y|\n",
            "|R3QZ0KTQMDY12F|          5|           28|         28|   N|                Y|\n",
            "|R1PC66U4E0HVTL|          1|           40|         57|   N|                Y|\n",
            "|R1GYQR5NU8GHOW|          5|           22|         23|   N|                Y|\n",
            "+--------------+-----------+-------------+-----------+----+-----------------+\n",
            "only showing top 20 rows\n",
            "\n"
          ]
        }
      ]
    },
    {
      "cell_type": "code",
      "source": [
        "# Determine total number of reviews + purchased (UNPAID)\n",
        "unpaid_purchased_reviews = not_vine_reviews_purchased.count()\n",
        "unpaid_purchased_reviews"
      ],
      "metadata": {
        "colab": {
          "base_uri": "https://localhost:8080/"
        },
        "id": "69mJB2VmZDei",
        "outputId": "cd05db59-20a2-4b36-ac2d-3b09a6331e68"
      },
      "execution_count": 66,
      "outputs": [
        {
          "output_type": "execute_result",
          "data": {
            "text/plain": [
              "1536"
            ]
          },
          "metadata": {},
          "execution_count": 66
        }
      ]
    },
    {
      "cell_type": "code",
      "source": [
        "# Determine number of 5-star reviews + purchased (UNPAID)\n",
        "unpaid_purchased_five_star_reviews = not_vine_reviews_purchased.filter(not_vine_reviews_df[\"star_rating\"] == '5').count()\n",
        "unpaid_purchased_five_star_reviews"
      ],
      "metadata": {
        "colab": {
          "base_uri": "https://localhost:8080/"
        },
        "id": "sedJ5mDtZJ77",
        "outputId": "496a7b34-7a0f-436f-a2e9-a88c5ed95d62"
      },
      "execution_count": 68,
      "outputs": [
        {
          "output_type": "execute_result",
          "data": {
            "text/plain": [
              "904"
            ]
          },
          "metadata": {},
          "execution_count": 68
        }
      ]
    },
    {
      "cell_type": "code",
      "source": [
        "# Determine percentage of 5 start reviews + purchased (UNPAID)\n",
        "unpaid_purchased_reviews_percentage = unpaid_purchased_five_star_reviews / unpaid_purchased_reviews\n",
        "unpaid_purchased_reviews_percentage"
      ],
      "metadata": {
        "colab": {
          "base_uri": "https://localhost:8080/"
        },
        "id": "TeQXFLvmZBJP",
        "outputId": "08b83804-5997-4ff2-c10e-9db453851cfd"
      },
      "execution_count": 69,
      "outputs": [
        {
          "output_type": "execute_result",
          "data": {
            "text/plain": [
              "0.5885416666666666"
            ]
          },
          "metadata": {},
          "execution_count": 69
        }
      ]
    }
  ]
}